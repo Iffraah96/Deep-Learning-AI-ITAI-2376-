{
  "nbformat": 4,
  "nbformat_minor": 0,
  "metadata": {
    "colab": {
      "provenance": [],
      "gpuType": "T4",
      "authorship_tag": "ABX9TyOaYb2R1U1x33SD2j2wBxNJ",
      "include_colab_link": true
    },
    "kernelspec": {
      "name": "python3",
      "display_name": "Python 3"
    },
    "language_info": {
      "name": "python"
    },
    "accelerator": "GPU"
  },
  "cells": [
    {
      "cell_type": "markdown",
      "metadata": {
        "id": "view-in-github",
        "colab_type": "text"
      },
      "source": [
        "<a href=\"https://colab.research.google.com/github/Iffraah96/Deep-Learning-AI-ITAI-2376-/blob/main/Virtual_AI_Research_Agent.ipynb\" target=\"_parent\"><img src=\"https://colab.research.google.com/assets/colab-badge.svg\" alt=\"Open In Colab\"/></a>"
      ]
    },
    {
      "cell_type": "code",
      "execution_count": null,
      "metadata": {
        "colab": {
          "base_uri": "https://localhost:8080/"
        },
        "id": "M0H_PioUF6wa",
        "outputId": "33f917fa-dc43-413e-c65d-8ab0b577dde6"
      },
      "outputs": [
        {
          "output_type": "stream",
          "name": "stdout",
          "text": [
            "['summarize']\n",
            "['search']\n",
            "['cite']\n"
          ]
        }
      ],
      "source": [
        "#MODULE 1: Input Processor\n",
        "#Classify user input into one (or more) of the following intents:\n",
        "\n",
        "#1. \"search\": Find papers based on a topic.\n",
        "#2. \"summarize\": Summarize a given paper or abstract.\n",
        "#3. \"connect\": Find relationships between sources.\n",
        "#4. \"cite\": Generate APA/MLA citations.\n",
        "\n",
        "import re\n",
        "\n",
        "def input_processor(user_input):\n",
        "    user_input = user_input.lower().strip()\n",
        "\n",
        "    # Define simple patterns for classification\n",
        "    tasks = {\n",
        "        \"search\": [\n",
        "            r'\\b(find|search|get|look for|collect)\\b.*\\b(paper|article|source|research)\\b',\n",
        "            r'\\btopic\\b.*\\b(is|about)\\b',\n",
        "        ],\n",
        "        \"summarize\": [\n",
        "            r'\\b(summarize|summarise|give me a summary|what is this about)\\b',\n",
        "            r'\\bsummary of\\b'\n",
        "        ],\n",
        "        \"connect\": [\n",
        "            r'\\b(connection|relationship|link|relate)\\b.*\\b(source|paper|idea)\\b',\n",
        "            r'\\bhow are\\b.*\\b(related|connected)\\b'\n",
        "        ],\n",
        "        \"cite\": [\n",
        "            r'\\b(cite|citation|apa|mla|format)\\b',\n",
        "            r'\\bhow do i cite\\b'\n",
        "        ]\n",
        "    }\n",
        "\n",
        "    detected = []\n",
        "    for task, patterns in tasks.items():\n",
        "        for pattern in patterns:\n",
        "            if re.search(pattern, user_input):\n",
        "                detected.append(task)\n",
        "                break  # no need to match more patterns for same task\n",
        "\n",
        "    if not detected:\n",
        "        detected = [\"search\"]  # Default action: search if unsure\n",
        "\n",
        "    return detected\n",
        "\n",
        "#Example Use Cases\n",
        "print(input_processor(\"Can you help me find research on AI in education?\"))\n",
        "\n",
        "print(input_processor(\"Summarize this article on bias in facial recognition.\"))\n",
        "\n",
        "print(input_processor(\"What's the connection between these two papers?\"))\n",
        "\n",
        "print(input_processor(\"Format this citation in APA style\"))\n"
      ]
    }
  ]
}